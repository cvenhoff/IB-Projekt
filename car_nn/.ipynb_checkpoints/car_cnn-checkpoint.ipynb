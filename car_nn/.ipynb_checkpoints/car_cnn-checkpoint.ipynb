{
 "cells": [
  {
   "cell_type": "code",
   "execution_count": 4,
   "metadata": {
    "id": "YTq84Ac_t2L8"
   },
   "outputs": [
    {
     "ename": "ImportError",
     "evalue": "Keras requires TensorFlow 2.2 or higher. Install TensorFlow via `pip install tensorflow`",
     "output_type": "error",
     "traceback": [
      "\u001b[1;31m---------------------------------------------------------------------------\u001b[0m",
      "\u001b[1;31mModuleNotFoundError\u001b[0m                       Traceback (most recent call last)",
      "\u001b[1;32m~\\anaconda3\\lib\\site-packages\\keras\\__init__.py\u001b[0m in \u001b[0;36m<module>\u001b[1;34m\u001b[0m\n\u001b[0;32m      2\u001b[0m \u001b[1;32mtry\u001b[0m\u001b[1;33m:\u001b[0m\u001b[1;33m\u001b[0m\u001b[1;33m\u001b[0m\u001b[0m\n\u001b[1;32m----> 3\u001b[1;33m     \u001b[1;32mfrom\u001b[0m \u001b[0mtensorflow\u001b[0m\u001b[1;33m.\u001b[0m\u001b[0mkeras\u001b[0m\u001b[1;33m.\u001b[0m\u001b[0mlayers\u001b[0m\u001b[1;33m.\u001b[0m\u001b[0mexperimental\u001b[0m\u001b[1;33m.\u001b[0m\u001b[0mpreprocessing\u001b[0m \u001b[1;32mimport\u001b[0m \u001b[0mRandomRotation\u001b[0m\u001b[1;33m\u001b[0m\u001b[1;33m\u001b[0m\u001b[0m\n\u001b[0m\u001b[0;32m      4\u001b[0m \u001b[1;32mexcept\u001b[0m \u001b[0mImportError\u001b[0m\u001b[1;33m:\u001b[0m\u001b[1;33m\u001b[0m\u001b[1;33m\u001b[0m\u001b[0m\n",
      "\u001b[1;31mModuleNotFoundError\u001b[0m: No module named 'tensorflow'",
      "\nDuring handling of the above exception, another exception occurred:\n",
      "\u001b[1;31mImportError\u001b[0m                               Traceback (most recent call last)",
      "\u001b[1;32m<ipython-input-4-404dbd8ab911>\u001b[0m in \u001b[0;36m<module>\u001b[1;34m\u001b[0m\n\u001b[0;32m      1\u001b[0m \u001b[1;31m# data and stuff\u001b[0m\u001b[1;33m\u001b[0m\u001b[1;33m\u001b[0m\u001b[1;33m\u001b[0m\u001b[0m\n\u001b[1;32m----> 2\u001b[1;33m \u001b[1;32mfrom\u001b[0m \u001b[0mkeras\u001b[0m\u001b[1;33m.\u001b[0m\u001b[0mdatasets\u001b[0m \u001b[1;32mimport\u001b[0m \u001b[0mcifar10\u001b[0m\u001b[1;33m\u001b[0m\u001b[1;33m\u001b[0m\u001b[0m\n\u001b[0m\u001b[0;32m      3\u001b[0m \u001b[1;32mimport\u001b[0m \u001b[0mnumpy\u001b[0m \u001b[1;32mas\u001b[0m \u001b[0mnp\u001b[0m\u001b[1;33m\u001b[0m\u001b[1;33m\u001b[0m\u001b[0m\n\u001b[0;32m      4\u001b[0m \u001b[1;32mimport\u001b[0m \u001b[0mmatplotlib\u001b[0m\u001b[1;33m.\u001b[0m\u001b[0mpyplot\u001b[0m \u001b[1;32mas\u001b[0m \u001b[0mplt\u001b[0m\u001b[1;33m\u001b[0m\u001b[1;33m\u001b[0m\u001b[0m\n\u001b[0;32m      5\u001b[0m \u001b[1;33m\u001b[0m\u001b[0m\n",
      "\u001b[1;32m~\\anaconda3\\lib\\site-packages\\keras\\__init__.py\u001b[0m in \u001b[0;36m<module>\u001b[1;34m\u001b[0m\n\u001b[0;32m      3\u001b[0m     \u001b[1;32mfrom\u001b[0m \u001b[0mtensorflow\u001b[0m\u001b[1;33m.\u001b[0m\u001b[0mkeras\u001b[0m\u001b[1;33m.\u001b[0m\u001b[0mlayers\u001b[0m\u001b[1;33m.\u001b[0m\u001b[0mexperimental\u001b[0m\u001b[1;33m.\u001b[0m\u001b[0mpreprocessing\u001b[0m \u001b[1;32mimport\u001b[0m \u001b[0mRandomRotation\u001b[0m\u001b[1;33m\u001b[0m\u001b[1;33m\u001b[0m\u001b[0m\n\u001b[0;32m      4\u001b[0m \u001b[1;32mexcept\u001b[0m \u001b[0mImportError\u001b[0m\u001b[1;33m:\u001b[0m\u001b[1;33m\u001b[0m\u001b[1;33m\u001b[0m\u001b[0m\n\u001b[1;32m----> 5\u001b[1;33m     raise ImportError(\n\u001b[0m\u001b[0;32m      6\u001b[0m         \u001b[1;34m'Keras requires TensorFlow 2.2 or higher. '\u001b[0m\u001b[1;33m\u001b[0m\u001b[1;33m\u001b[0m\u001b[0m\n\u001b[0;32m      7\u001b[0m         'Install TensorFlow via `pip install tensorflow`')\n",
      "\u001b[1;31mImportError\u001b[0m: Keras requires TensorFlow 2.2 or higher. Install TensorFlow via `pip install tensorflow`"
     ]
    }
   ],
   "source": [
    "# data and stuff\n",
    "from keras.datasets import cifar10\n",
    "import numpy as np\n",
    "import matplotlib.pyplot as plt\n",
    "\n",
    "# keras \n",
    "from keras.models import Sequential\n",
    "from keras.layers import Dense, Conv2D, Dropout, Flatten, MaxPooling2D\n",
    "from keras.optimizers import Adam\n",
    "from keras.preprocessing.image import ImageDataGenerator"
   ]
  },
  {
   "cell_type": "code",
   "execution_count": null,
   "metadata": {
    "id": "H-oVEJ6xug1h"
   },
   "outputs": [],
   "source": [
    "# load and preprocess data\n",
    "(X_train, y_train), (X_test, y_test) = cifar10.load_data()\n",
    "y_train = y_train == 1\n",
    "y_test = y_test == 1\n",
    "X_train = X_train.astype(np.float32) / 255\n",
    "X_test = X_test.astype(np.float32) / 255"
   ]
  },
  {
   "cell_type": "code",
   "execution_count": null,
   "metadata": {
    "id": "UPdKpdKPvzr0"
   },
   "outputs": [],
   "source": [
    "# network construction\n",
    "model = Sequential()\n",
    "model.add(Conv2D(32, kernel_size=(3,3), input_shape=(32,32,3), activation=\"relu\", padding=\"same\"))\n",
    "model.add(Conv2D(32, kernel_size=(3,3), activation=\"relu\", padding=\"same\"))\n",
    "model.add(MaxPooling2D(pool_size=(2,2)))\n",
    "model.add(Dropout(0.25))\n",
    "\n",
    "model.add(Conv2D(64, kernel_size=(3,3), activation=\"relu\", padding=\"same\"))\n",
    "model.add(Conv2D(64, kernel_size=(3,3), activation=\"relu\", padding=\"same\"))\n",
    "model.add(MaxPooling2D(pool_size=(2,2)))\n",
    "model.add(Dropout(0.25))#\n",
    "\n",
    "model.add(Conv2D(128, kernel_size=(3,3), activation=\"relu\"))\n",
    "model.add(Conv2D(128, kernel_size=(3,3), activation=\"relu\"))\n",
    "model.add(MaxPooling2D(pool_size=(2,2)))\n",
    "model.add(Dropout(0.25))\n",
    "\n",
    "model.add(Flatten())\n",
    "model.add(Dense(128, activation=\"relu\"))\n",
    "\n",
    "model.add(Dense(1, activation=\"sigmoid\"))\n",
    "\n",
    "model.compile(optimizer=Adam(lr=0.001), loss=\"binary_crossentropy\", metrics=['accuracy'])\n"
   ]
  },
  {
   "cell_type": "code",
   "execution_count": null,
   "metadata": {
    "colab": {
     "base_uri": "https://localhost:8080/",
     "height": 381
    },
    "executionInfo": {
     "elapsed": 47603,
     "status": "ok",
     "timestamp": 1584367131154,
     "user": {
      "displayName": "Constantin Venhoff",
      "photoUrl": "https://lh3.googleusercontent.com/a-/AOh14GjaxY2m2wsKXUow2k_pVCZK2EIvRFtTKA5j-Mn6KA=s64",
      "userId": "01996464420998208449"
     },
     "user_tz": -60
    },
    "id": "JE4bglQIzmPH",
    "outputId": "b372556b-f684-4f4f-87eb-3a94676a5a97"
   },
   "outputs": [
    {
     "name": "stdout",
     "output_type": "stream",
     "text": [
      "Epoch 1/10\n",
      "50000/50000 [==============================] - 5s 107us/step - loss: 0.2532 - acc: 0.9054\n",
      "Epoch 2/10\n",
      "50000/50000 [==============================] - 5s 90us/step - loss: 0.1588 - acc: 0.9376\n",
      "Epoch 3/10\n",
      "50000/50000 [==============================] - 4s 90us/step - loss: 0.1159 - acc: 0.9577\n",
      "Epoch 4/10\n",
      "50000/50000 [==============================] - 5s 91us/step - loss: 0.0919 - acc: 0.9664\n",
      "Epoch 5/10\n",
      "50000/50000 [==============================] - 4s 89us/step - loss: 0.0789 - acc: 0.9715\n",
      "Epoch 6/10\n",
      "50000/50000 [==============================] - 5s 90us/step - loss: 0.0690 - acc: 0.9754\n",
      "Epoch 7/10\n",
      "50000/50000 [==============================] - 5s 90us/step - loss: 0.0639 - acc: 0.9776\n",
      "Epoch 8/10\n",
      "50000/50000 [==============================] - 5s 90us/step - loss: 0.0574 - acc: 0.9800\n",
      "Epoch 9/10\n",
      "50000/50000 [==============================] - 5s 91us/step - loss: 0.0524 - acc: 0.9819\n",
      "Epoch 10/10\n",
      "50000/50000 [==============================] - 5s 91us/step - loss: 0.0479 - acc: 0.9826\n"
     ]
    },
    {
     "data": {
      "text/plain": [
       "<keras.callbacks.History at 0x7fbcc0396390>"
      ]
     },
     "execution_count": 19,
     "metadata": {
      "tags": []
     },
     "output_type": "execute_result"
    }
   ],
   "source": [
    "#train\n",
    "model.fit(X_train, y_train, batch_size=128, epochs=10, shuffle=True)"
   ]
  },
  {
   "cell_type": "code",
   "execution_count": null,
   "metadata": {
    "colab": {
     "base_uri": "https://localhost:8080/",
     "height": 728
    },
    "executionInfo": {
     "elapsed": 485894,
     "status": "ok",
     "timestamp": 1584367569633,
     "user": {
      "displayName": "Constantin Venhoff",
      "photoUrl": "https://lh3.googleusercontent.com/a-/AOh14GjaxY2m2wsKXUow2k_pVCZK2EIvRFtTKA5j-Mn6KA=s64",
      "userId": "01996464420998208449"
     },
     "user_tz": -60
    },
    "id": "J1cTZnt5M1KA",
    "outputId": "8ff5d24a-5f2e-4cd6-da11-71e1529e7892"
   },
   "outputs": [
    {
     "name": "stdout",
     "output_type": "stream",
     "text": [
      "Epoch 1/20\n",
      "391/391 [==============================] - 22s 56ms/step - loss: 0.0748 - acc: 0.9739\n",
      "Epoch 2/20\n",
      "391/391 [==============================] - 22s 56ms/step - loss: 0.0673 - acc: 0.9761\n",
      "Epoch 3/20\n",
      "391/391 [==============================] - 22s 56ms/step - loss: 0.0668 - acc: 0.9767\n",
      "Epoch 4/20\n",
      "391/391 [==============================] - 22s 55ms/step - loss: 0.0645 - acc: 0.9774\n",
      "Epoch 5/20\n",
      "391/391 [==============================] - 22s 56ms/step - loss: 0.0625 - acc: 0.9784\n",
      "Epoch 6/20\n",
      "391/391 [==============================] - 22s 56ms/step - loss: 0.0586 - acc: 0.9792\n",
      "Epoch 7/20\n",
      "391/391 [==============================] - 22s 57ms/step - loss: 0.0575 - acc: 0.9790\n",
      "Epoch 8/20\n",
      "391/391 [==============================] - 22s 56ms/step - loss: 0.0551 - acc: 0.9809\n",
      "Epoch 9/20\n",
      "391/391 [==============================] - 22s 57ms/step - loss: 0.0549 - acc: 0.9806\n",
      "Epoch 10/20\n",
      "391/391 [==============================] - 22s 56ms/step - loss: 0.0526 - acc: 0.9820\n",
      "Epoch 11/20\n",
      "391/391 [==============================] - 22s 56ms/step - loss: 0.0503 - acc: 0.9819\n",
      "Epoch 12/20\n",
      "391/391 [==============================] - 22s 56ms/step - loss: 0.0498 - acc: 0.9822\n",
      "Epoch 13/20\n",
      "391/391 [==============================] - 22s 56ms/step - loss: 0.0485 - acc: 0.9830\n",
      "Epoch 14/20\n",
      "391/391 [==============================] - 22s 56ms/step - loss: 0.0478 - acc: 0.9831\n",
      "Epoch 15/20\n",
      "391/391 [==============================] - 22s 57ms/step - loss: 0.0471 - acc: 0.9838\n",
      "Epoch 16/20\n",
      "391/391 [==============================] - 22s 55ms/step - loss: 0.0447 - acc: 0.9842\n",
      "Epoch 17/20\n",
      "391/391 [==============================] - 22s 56ms/step - loss: 0.0450 - acc: 0.9833\n",
      "Epoch 18/20\n",
      "391/391 [==============================] - 22s 56ms/step - loss: 0.0439 - acc: 0.9847\n",
      "Epoch 19/20\n",
      "391/391 [==============================] - 22s 56ms/step - loss: 0.0436 - acc: 0.9845\n",
      "Epoch 20/20\n",
      "391/391 [==============================] - 22s 56ms/step - loss: 0.0429 - acc: 0.9849\n"
     ]
    },
    {
     "data": {
      "text/plain": [
       "<keras.callbacks.History at 0x7fbcc003a198>"
      ]
     },
     "execution_count": 20,
     "metadata": {
      "tags": []
     },
     "output_type": "execute_result"
    }
   ],
   "source": [
    "# generate data\n",
    "gen = ImageDataGenerator(width_shift_range=3, height_shift_range=3, zoom_range=0.1, horizontal_flip=True)\n",
    "\n",
    "model.fit_generator(gen.flow(X_train,y_train, batch_size=128, shuffle=True), epochs=20)"
   ]
  },
  {
   "cell_type": "code",
   "execution_count": null,
   "metadata": {
    "colab": {
     "base_uri": "https://localhost:8080/",
     "height": 52
    },
    "executionInfo": {
     "elapsed": 486680,
     "status": "ok",
     "timestamp": 1584367570572,
     "user": {
      "displayName": "Constantin Venhoff",
      "photoUrl": "https://lh3.googleusercontent.com/a-/AOh14GjaxY2m2wsKXUow2k_pVCZK2EIvRFtTKA5j-Mn6KA=s64",
      "userId": "01996464420998208449"
     },
     "user_tz": -60
    },
    "id": "pKhn5d7eAw-4",
    "outputId": "1cb5ff7e-e248-4f7e-e2f8-70aeddfd3b98"
   },
   "outputs": [
    {
     "name": "stdout",
     "output_type": "stream",
     "text": [
      "10000/10000 [==============================] - 1s 103us/step\n"
     ]
    },
    {
     "data": {
      "text/plain": [
       "[0.04414167167823762, 0.9846]"
      ]
     },
     "execution_count": 21,
     "metadata": {
      "tags": []
     },
     "output_type": "execute_result"
    }
   ],
   "source": [
    "# model accuracy on test data\n",
    "model.evaluate(X_test,y_test)"
   ]
  },
  {
   "cell_type": "code",
   "execution_count": null,
   "metadata": {
    "colab": {
     "base_uri": "https://localhost:8080/",
     "height": 35
    },
    "executionInfo": {
     "elapsed": 27975,
     "status": "ok",
     "timestamp": 1584368722329,
     "user": {
      "displayName": "Constantin Venhoff",
      "photoUrl": "https://lh3.googleusercontent.com/a-/AOh14GjaxY2m2wsKXUow2k_pVCZK2EIvRFtTKA5j-Mn6KA=s64",
      "userId": "01996464420998208449"
     },
     "user_tz": -60
    },
    "id": "gtVTbJPyuETX",
    "outputId": "185ef3b1-c93a-4f3c-ccc6-d9484c509fef"
   },
   "outputs": [
    {
     "data": {
      "text/plain": [
       "GoogleDriveFile({'id': '1kI43ggQWGClCxNHXNYelWUFJMEhZs9dh'})"
      ]
     },
     "execution_count": 45,
     "metadata": {
      "tags": []
     },
     "output_type": "execute_result"
    }
   ],
   "source": [
    "# safe model\n",
    "model.save('car_model.h5')    \n"
   ]
  }
 ],
 "metadata": {
  "accelerator": "GPU",
  "colab": {
   "collapsed_sections": [],
   "name": "car_cnn.ipynb",
   "provenance": []
  },
  "kernelspec": {
   "display_name": "Python 3",
   "language": "python",
   "name": "python3"
  },
  "language_info": {
   "codemirror_mode": {
    "name": "ipython",
    "version": 3
   },
   "file_extension": ".py",
   "mimetype": "text/x-python",
   "name": "python",
   "nbconvert_exporter": "python",
   "pygments_lexer": "ipython3",
   "version": "3.8.5"
  }
 },
 "nbformat": 4,
 "nbformat_minor": 1
}
